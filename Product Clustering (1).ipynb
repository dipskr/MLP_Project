{
 "cells": [
  {
   "cell_type": "code",
   "execution_count": 1,
   "id": "ccd057a4",
   "metadata": {},
   "outputs": [],
   "source": [
    "import numpy as np # linear algebra\n",
    "import pandas as pd # data processing, CSV file I/O (e.g. pd.read_csv)\n",
    "import matplotlib.pyplot as plt\n",
    "import seaborn as sns\n",
    "import os"
   ]
  },
  {
   "cell_type": "code",
   "execution_count": 2,
   "id": "2d79e08a",
   "metadata": {},
   "outputs": [],
   "source": [
    "os.chdir(\"C:/Users/Arunita.000/Desktop/MachineLearning_Classification_Clustering_Regression/ProductClustering\")"
   ]
  },
  {
   "cell_type": "code",
   "execution_count": 3,
   "id": "abb53fc5",
   "metadata": {},
   "outputs": [],
   "source": [
    "columns=[\"S.No\",\"Product Title\",\"Vendor ID\",\"Cluster ID\",\"Cluster Label\",\"Category ID\",\"Category Label \"]\n",
    "df=pd.read_csv(\"skroutz_aggregate1.csv\", names=columns)"
   ]
  },
  {
   "cell_type": "code",
   "execution_count": 4,
   "id": "3b704b09",
   "metadata": {},
   "outputs": [
    {
     "data": {
      "text/html": [
       "<div>\n",
       "<style scoped>\n",
       "    .dataframe tbody tr th:only-of-type {\n",
       "        vertical-align: middle;\n",
       "    }\n",
       "\n",
       "    .dataframe tbody tr th {\n",
       "        vertical-align: top;\n",
       "    }\n",
       "\n",
       "    .dataframe thead th {\n",
       "        text-align: right;\n",
       "    }\n",
       "</style>\n",
       "<table border=\"1\" class=\"dataframe\">\n",
       "  <thead>\n",
       "    <tr style=\"text-align: right;\">\n",
       "      <th></th>\n",
       "      <th>S.No</th>\n",
       "      <th>Product Title</th>\n",
       "      <th>Vendor ID</th>\n",
       "      <th>Cluster ID</th>\n",
       "      <th>Cluster Label</th>\n",
       "      <th>Category ID</th>\n",
       "      <th>Category Label</th>\n",
       "    </tr>\n",
       "  </thead>\n",
       "  <tbody>\n",
       "    <tr>\n",
       "      <th>0</th>\n",
       "      <td>1</td>\n",
       "      <td>amd ryzen 5 1600 box epexergastis me wraith sp...</td>\n",
       "      <td>1030</td>\n",
       "      <td>1</td>\n",
       "      <td>AMD Ryzen 5 1600 Box</td>\n",
       "      <td>696</td>\n",
       "      <td>CPUs</td>\n",
       "    </tr>\n",
       "    <tr>\n",
       "      <th>1</th>\n",
       "      <td>2</td>\n",
       "      <td>amd ryzen 5 1600</td>\n",
       "      <td>3964</td>\n",
       "      <td>1</td>\n",
       "      <td>AMD Ryzen 5 1600 Box</td>\n",
       "      <td>696</td>\n",
       "      <td>CPUs</td>\n",
       "    </tr>\n",
       "    <tr>\n",
       "      <th>2</th>\n",
       "      <td>3</td>\n",
       "      <td>amd ryzen 5 1600 box pliromi ke se eos 36 dosis</td>\n",
       "      <td>4814</td>\n",
       "      <td>1</td>\n",
       "      <td>AMD Ryzen 5 1600 Box</td>\n",
       "      <td>696</td>\n",
       "      <td>CPUs</td>\n",
       "    </tr>\n",
       "    <tr>\n",
       "      <th>3</th>\n",
       "      <td>4</td>\n",
       "      <td>amd ryzen 5 1600 yd1600bbaebox</td>\n",
       "      <td>4835</td>\n",
       "      <td>1</td>\n",
       "      <td>AMD Ryzen 5 1600 Box</td>\n",
       "      <td>696</td>\n",
       "      <td>CPUs</td>\n",
       "    </tr>\n",
       "    <tr>\n",
       "      <th>4</th>\n",
       "      <td>5</td>\n",
       "      <td>amd ryzen 5 1600 box yd1600bbaebox</td>\n",
       "      <td>2976</td>\n",
       "      <td>1</td>\n",
       "      <td>AMD Ryzen 5 1600 Box</td>\n",
       "      <td>696</td>\n",
       "      <td>CPUs</td>\n",
       "    </tr>\n",
       "  </tbody>\n",
       "</table>\n",
       "</div>"
      ],
      "text/plain": [
       "   S.No                                      Product Title  Vendor ID  \\\n",
       "0     1  amd ryzen 5 1600 box epexergastis me wraith sp...       1030   \n",
       "1     2                                   amd ryzen 5 1600       3964   \n",
       "2     3    amd ryzen 5 1600 box pliromi ke se eos 36 dosis       4814   \n",
       "3     4                     amd ryzen 5 1600 yd1600bbaebox       4835   \n",
       "4     5                 amd ryzen 5 1600 box yd1600bbaebox       2976   \n",
       "\n",
       "   Cluster ID         Cluster Label  Category ID Category Label   \n",
       "0           1  AMD Ryzen 5 1600 Box          696            CPUs  \n",
       "1           1  AMD Ryzen 5 1600 Box          696            CPUs  \n",
       "2           1  AMD Ryzen 5 1600 Box          696            CPUs  \n",
       "3           1  AMD Ryzen 5 1600 Box          696            CPUs  \n",
       "4           1  AMD Ryzen 5 1600 Box          696            CPUs  "
      ]
     },
     "execution_count": 4,
     "metadata": {},
     "output_type": "execute_result"
    }
   ],
   "source": [
    "df.head()"
   ]
  },
  {
   "cell_type": "code",
   "execution_count": 5,
   "id": "ae086ba2",
   "metadata": {
    "scrolled": true
   },
   "outputs": [
    {
     "name": "stdout",
     "output_type": "stream",
     "text": [
      "<class 'pandas.core.frame.DataFrame'>\n",
      "RangeIndex: 137859 entries, 0 to 137858\n",
      "Data columns (total 7 columns):\n",
      " #   Column           Non-Null Count   Dtype \n",
      "---  ------           --------------   ----- \n",
      " 0   S.No             137859 non-null  int64 \n",
      " 1   Product Title    137859 non-null  object\n",
      " 2   Vendor ID        137859 non-null  int64 \n",
      " 3   Cluster ID       137859 non-null  int64 \n",
      " 4   Cluster Label    137859 non-null  object\n",
      " 5   Category ID      137859 non-null  int64 \n",
      " 6   Category Label   137859 non-null  object\n",
      "dtypes: int64(4), object(3)\n",
      "memory usage: 7.4+ MB\n"
     ]
    }
   ],
   "source": [
    "df.info()"
   ]
  },
  {
   "cell_type": "code",
   "execution_count": 6,
   "id": "05fdddbd",
   "metadata": {},
   "outputs": [
    {
     "data": {
      "image/png": "[encoded data removed]",
      "text/plain": [
       "<Figure size 432x288 with 1 Axes>"
      ]
     },
     "metadata": {
      "needs_background": "light"
     },
     "output_type": "display_data"
    }
   ],
   "source": [
    "plt.scatter(df[\"Cluster ID\"], df[\"Vendor ID\"], c=df[\"Category ID\"])\n",
    "plt.show()"
   ]
  },
  {
   "cell_type": "code",
   "execution_count": 7,
   "id": "08abe50d",
   "metadata": {},
   "outputs": [
    {
     "data": {
      "image/png": "[encoded data removed]",
      "text/plain": [
       "<Figure size 355.125x288 with 1 Axes>"
      ]
     },
     "metadata": {
      "needs_background": "light"
     },
     "output_type": "display_data"
    }
   ],
   "source": [
    "sns.FacetGrid(df, hue=\"Category ID\", height=4) \\\n",
    "   .map(plt.scatter, \"Cluster ID\", \"Vendor ID\") \\\n",
    "   .add_legend();"
   ]
  },
  {
   "cell_type": "code",
   "execution_count": 36,
   "id": "c6636233",
   "metadata": {},
   "outputs": [
    {
     "data": {
      "image/png": "[encoded data removed]",
      "text/plain": [
       "<Figure size 1800x1800 with 2 Axes>"
      ]
     },
     "metadata": {
      "needs_background": "light"
     },
     "output_type": "display_data"
    }
   ],
   "source": [
    "import seaborn as sns\n",
    "plt.figure(figsize=(25,25))\n",
    "sns.heatmap(df.corr(), center=0, annot=True)\n",
    "plt.title(\"Correlation Map\")\n",
    "plt.show()"
   ]
  },
  {
   "cell_type": "code",
   "execution_count": 8,
   "id": "9d9a72a8",
   "metadata": {},
   "outputs": [
    {
     "data": {
      "text/plain": [
       "array([ 696,  810,  927,  929, 2143,  355, 2055, 2056, 2057, 2058, 1695],\n",
       "      dtype=int64)"
      ]
     },
     "execution_count": 8,
     "metadata": {},
     "output_type": "execute_result"
    }
   ],
   "source": [
    "df[\"Category ID\"].unique()"
   ]
  },
  {
   "cell_type": "code",
   "execution_count": 9,
   "id": "fdba1d73",
   "metadata": {},
   "outputs": [
    {
     "data": {
      "text/plain": [
       "array([     1,      2,      3, ..., 124629, 124630, 124631], dtype=int64)"
      ]
     },
     "execution_count": 9,
     "metadata": {},
     "output_type": "execute_result"
    }
   ],
   "source": [
    "df[\"Cluster ID\"].unique()"
   ]
  },
  {
   "cell_type": "code",
   "execution_count": 10,
   "id": "36193aee",
   "metadata": {},
   "outputs": [
    {
     "data": {
      "text/plain": [
       "624"
      ]
     },
     "execution_count": 10,
     "metadata": {},
     "output_type": "execute_result"
    }
   ],
   "source": [
    "len(df[\"Vendor ID\"].unique())"
   ]
  },
  {
   "cell_type": "code",
   "execution_count": 11,
   "id": "f50479fb",
   "metadata": {},
   "outputs": [
    {
     "data": {
      "text/plain": [
       "702     5681\n",
       "728     5508\n",
       "945     5211\n",
       "2661    5178\n",
       "555     5116\n",
       "        ... \n",
       "2749       1\n",
       "446        1\n",
       "4994       1\n",
       "1600       1\n",
       "1663       1\n",
       "Name: Vendor ID, Length: 624, dtype: int64"
      ]
     },
     "execution_count": 11,
     "metadata": {},
     "output_type": "execute_result"
    }
   ],
   "source": [
    "df[\"Vendor ID\"].value_counts()"
   ]
  },
  {
   "cell_type": "code",
   "execution_count": 12,
   "id": "be943ecf",
   "metadata": {},
   "outputs": [
    {
     "data": {
      "text/plain": [
       "104387    100\n",
       "104393     98\n",
       "104482     96\n",
       "104395     95\n",
       "104520     95\n",
       "         ... \n",
       "89274       1\n",
       "122997      1\n",
       "100472      1\n",
       "83129       1\n",
       "87189       1\n",
       "Name: Cluster ID, Length: 31096, dtype: int64"
      ]
     },
     "execution_count": 12,
     "metadata": {},
     "output_type": "execute_result"
    }
   ],
   "source": [
    "df[\"Cluster ID\"].value_counts()"
   ]
  },
  {
   "cell_type": "code",
   "execution_count": 13,
   "id": "e82a1e40",
   "metadata": {},
   "outputs": [
    {
     "data": {
      "text/plain": [
       "11"
      ]
     },
     "execution_count": 13,
     "metadata": {},
     "output_type": "execute_result"
    }
   ],
   "source": [
    "len(df[\"Category ID\"].unique())"
   ]
  },
  {
   "cell_type": "code",
   "execution_count": 14,
   "id": "506edf40",
   "metadata": {},
   "outputs": [
    {
     "data": {
      "text/plain": [
       "(137859, 7)"
      ]
     },
     "execution_count": 14,
     "metadata": {},
     "output_type": "execute_result"
    }
   ],
   "source": [
    "df.shape"
   ]
  },
  {
   "cell_type": "code",
   "execution_count": 39,
   "id": "0f48b9cc",
   "metadata": {},
   "outputs": [],
   "source": [
    "df.drop(df.index[49539:127884],axis=0,inplace=True)\n",
    "df.drop(df.index[8909:25085],axis=0,inplace=True)\n",
    "df.drop(df.index[35960:49538],axis=0,inplace=True)"
   ]
  },
  {
   "cell_type": "code",
   "execution_count": 16,
   "id": "8bd42c86",
   "metadata": {},
   "outputs": [],
   "source": [
    "#sns.swarmplot(x=\"Category ID\", y=\"Cluster ID\", data=df)\n",
    "#plt.grid()"
   ]
  },
  {
   "cell_type": "code",
   "execution_count": 40,
   "id": "f7d8053b",
   "metadata": {},
   "outputs": [
    {
     "data": {
      "image/png": "[encoded data removed]",
      "text/plain": [
       "<Figure size 412.725x345.6 with 12 Axes>"
      ]
     },
     "metadata": {
      "needs_background": "light"
     },
     "output_type": "display_data"
    }
   ],
   "source": [
    "sns.pairplot(df, hue=\"Category ID\", diag_kind=\"hist\", height=1.6);"
   ]
  },
  {
   "cell_type": "code",
   "execution_count": 41,
   "id": "36111171",
   "metadata": {},
   "outputs": [
    {
     "name": "stdout",
     "output_type": "stream",
     "text": [
      "       Cluster ID\n",
      "505            19\n",
      "3230         2371\n",
      "2993         2361\n",
      "46058      104683\n",
      "1912         2330\n",
      "       Category ID\n",
      "548            696\n",
      "47138         2143\n",
      "1061           696\n",
      "45590         2143\n",
      "45941         2143\n"
     ]
    }
   ],
   "source": [
    "# split data into features (X) and labels (y)\n",
    "X = df.iloc[:,[3]]\n",
    "y = df.iloc[:,[5]]\n",
    "print(X.sample(5))\n",
    "print(y.sample(5))"
   ]
  },
  {
   "cell_type": "code",
   "execution_count": 42,
   "id": "508a311d",
   "metadata": {},
   "outputs": [
    {
     "data": {
      "text/plain": [
       "2143    8277\n",
       "810     7002\n",
       "696     1906\n",
       "355        1\n",
       "927        1\n",
       "Name: Category ID, dtype: int64"
      ]
     },
     "execution_count": 42,
     "metadata": {},
     "output_type": "execute_result"
    }
   ],
   "source": [
    "df[\"Category ID\"].value_counts()"
   ]
  },
  {
   "cell_type": "code",
   "execution_count": 43,
   "id": "a3a0b988",
   "metadata": {},
   "outputs": [
    {
     "data": {
      "text/html": [
       "<div>\n",
       "<style scoped>\n",
       "    .dataframe tbody tr th:only-of-type {\n",
       "        vertical-align: middle;\n",
       "    }\n",
       "\n",
       "    .dataframe tbody tr th {\n",
       "        vertical-align: top;\n",
       "    }\n",
       "\n",
       "    .dataframe thead th {\n",
       "        text-align: right;\n",
       "    }\n",
       "</style>\n",
       "<table border=\"1\" class=\"dataframe\">\n",
       "  <thead>\n",
       "    <tr style=\"text-align: right;\">\n",
       "      <th></th>\n",
       "      <th>Cluster ID</th>\n",
       "    </tr>\n",
       "  </thead>\n",
       "  <tbody>\n",
       "    <tr>\n",
       "      <th>14520</th>\n",
       "      <td>1.038594</td>\n",
       "    </tr>\n",
       "    <tr>\n",
       "      <th>8537</th>\n",
       "      <td>-0.946264</td>\n",
       "    </tr>\n",
       "    <tr>\n",
       "      <th>8303</th>\n",
       "      <td>-0.947317</td>\n",
       "    </tr>\n",
       "    <tr>\n",
       "      <th>12669</th>\n",
       "      <td>1.036742</td>\n",
       "    </tr>\n",
       "    <tr>\n",
       "      <th>13873</th>\n",
       "      <td>1.037873</td>\n",
       "    </tr>\n",
       "  </tbody>\n",
       "</table>\n",
       "</div>"
      ],
      "text/plain": [
       "       Cluster ID\n",
       "14520    1.038594\n",
       "8537    -0.946264\n",
       "8303    -0.947317\n",
       "12669    1.036742\n",
       "13873    1.037873"
      ]
     },
     "execution_count": 43,
     "metadata": {},
     "output_type": "execute_result"
    }
   ],
   "source": [
    "from sklearn import preprocessing\n",
    "\n",
    "scaler = preprocessing.StandardScaler()\n",
    "\n",
    "scaler.fit(X)\n",
    "X_scaled_array = scaler.transform(X)\n",
    "X_scaled = pd.DataFrame(X_scaled_array, columns = X.columns)\n",
    "\n",
    "X_scaled.sample(5)"
   ]
  },
  {
   "cell_type": "code",
   "execution_count": 44,
   "id": "ea3e3be5",
   "metadata": {},
   "outputs": [
    {
     "data": {
      "text/plain": [
       "array([2, 2, 2, ..., 1, 1, 1])"
      ]
     },
     "execution_count": 44,
     "metadata": {},
     "output_type": "execute_result"
    }
   ],
   "source": [
    "# K-Means Clustering\n",
    "from sklearn.cluster import KMeans\n",
    "\n",
    "nclusters = 3 # this is the k in kmeans\n",
    "seed = 0\n",
    "\n",
    "km = KMeans(n_clusters=nclusters, random_state=seed)\n",
    "km.fit(X_scaled)\n",
    "\n",
    "# predict the cluster for each data point\n",
    "y_cluster_kmeans = km.predict(X_scaled)\n",
    "y_cluster_kmeans"
   ]
  },
  {
   "cell_type": "code",
   "execution_count": 45,
   "id": "237fd98d",
   "metadata": {},
   "outputs": [
    {
     "data": {
      "text/plain": [
       "0.9618878762157995"
      ]
     },
     "execution_count": 45,
     "metadata": {},
     "output_type": "execute_result"
    }
   ],
   "source": [
    "from sklearn import metrics\n",
    "score = metrics.silhouette_score(X_scaled, y_cluster_kmeans)\n",
    "score"
   ]
  },
  {
   "cell_type": "code",
   "execution_count": 46,
   "id": "d3a85cfb",
   "metadata": {},
   "outputs": [
    {
     "data": {
      "text/plain": [
       "array([[   0,    1,    0],\n",
       "       [   0,    0, 1906],\n",
       "       [7002,    0,    0],\n",
       "       [   1,    0,    0],\n",
       "       [   0, 8277,    0]], dtype=int64)"
      ]
     },
     "execution_count": 46,
     "metadata": {},
     "output_type": "execute_result"
    }
   ],
   "source": [
    "contingency_matrix1 = metrics.cluster.contingency_matrix(y,y_cluster_kmeans)\n",
    "contingency_matrix1"
   ]
  },
  {
   "cell_type": "code",
   "execution_count": 47,
   "id": "788ff333",
   "metadata": {},
   "outputs": [
    {
     "data": {
      "text/plain": [
       "(17187, 7)"
      ]
     },
     "execution_count": 47,
     "metadata": {},
     "output_type": "execute_result"
    }
   ],
   "source": [
    "df.shape"
   ]
  },
  {
   "cell_type": "code",
   "execution_count": 48,
   "id": "cc4321d3",
   "metadata": {},
   "outputs": [
    {
     "data": {
      "text/plain": [
       "array([7002, 8277, 1906], dtype=int64)"
      ]
     },
     "execution_count": 48,
     "metadata": {},
     "output_type": "execute_result"
    }
   ],
   "source": [
    "np.amax(contingency_matrix1, axis=0)"
   ]
  },
  {
   "cell_type": "code",
   "execution_count": 49,
   "id": "da767366",
   "metadata": {},
   "outputs": [
    {
     "data": {
      "text/plain": [
       "17185"
      ]
     },
     "execution_count": 49,
     "metadata": {},
     "output_type": "execute_result"
    }
   ],
   "source": [
    "x = np.sum(np.amax(contingency_matrix1, axis=0)) #Sum of max. elements from each row\n",
    "x"
   ]
  },
  {
   "cell_type": "code",
   "execution_count": 50,
   "id": "de40b986",
   "metadata": {},
   "outputs": [
    {
     "data": {
      "text/plain": [
       "17187"
      ]
     },
     "execution_count": 50,
     "metadata": {},
     "output_type": "execute_result"
    }
   ],
   "source": [
    "y = np.sum(contingency_matrix1)  #total sum of all elements in contingency matrix\n",
    "y"
   ]
  },
  {
   "cell_type": "code",
   "execution_count": 51,
   "id": "5969dc07",
   "metadata": {},
   "outputs": [
    {
     "data": {
      "text/plain": [
       "0.9998836329784139"
      ]
     },
     "execution_count": 51,
     "metadata": {},
     "output_type": "execute_result"
    }
   ],
   "source": [
    "purity = float(x)/float(y) \n",
    "purity"
   ]
  },
  {
   "cell_type": "code",
   "execution_count": 52,
   "id": "5cd45737",
   "metadata": {},
   "outputs": [
    {
     "name": "stderr",
     "output_type": "stream",
     "text": [
      "C:\\ProgramData\\Anaconda3\\lib\\site-packages\\seaborn\\distributions.py:2557: FutureWarning: `distplot` is a deprecated function and will be removed in a future version. Please adapt your code to use either `displot` (a figure-level function with similar flexibility) or `histplot` (an axes-level function for histograms).\n",
      "  warnings.warn(msg, FutureWarning)\n"
     ]
    },
    {
     "data": {
      "image/png": "[encoded data removed]",
      "text/plain": [
       "<Figure size 432x288 with 1 Axes>"
      ]
     },
     "metadata": {
      "needs_background": "light"
     },
     "output_type": "display_data"
    }
   ],
   "source": [
    "scores = metrics.silhouette_samples(X_scaled, y_cluster_kmeans)\n",
    "sns.distplot(scores);"
   ]
  },
  {
   "cell_type": "code",
   "execution_count": 53,
   "id": "d39c6d69",
   "metadata": {},
   "outputs": [
    {
     "data": {
      "image/png": "[encoded data removed]",
      "text/plain": [
       "<Figure size 432x288 with 4 Axes>"
      ]
     },
     "metadata": {
      "needs_background": "light"
     },
     "output_type": "display_data"
    }
   ],
   "source": [
    "df_scores = pd.DataFrame()\n",
    "df_scores['SilhouetteScore'] = scores\n",
    "df_scores['Category ID'] = df['Category ID']\n",
    "df_scores.hist(by='Category ID', column='SilhouetteScore', range=(0,1.0), bins=20);\n"
   ]
  },
  {
   "cell_type": "code",
   "execution_count": 54,
   "id": "6049d27f",
   "metadata": {},
   "outputs": [
    {
     "data": {
      "image/png": "[encoded data removed]",
      "text/plain": [
       "<Figure size 720x720 with 1 Axes>"
      ]
     },
     "metadata": {
      "needs_background": "light"
     },
     "output_type": "display_data"
    }
   ],
   "source": [
    "from sklearn.cluster import KMeans\n",
    "wcss = [] # within cluster sum of squares\n",
    "\n",
    "for k in range(1, 15):\n",
    "    kmeansForLoop = KMeans(n_clusters = k)\n",
    "    kmeansForLoop.fit(X_scaled)\n",
    "    wcss.append(kmeansForLoop.inertia_)\n",
    "\n",
    "plt.figure(figsize = (10, 10))\n",
    "plt.plot(range(1, 15), wcss)\n",
    "plt.xlabel(\"K value\")\n",
    "plt.ylabel(\"WCSS\")\n",
    "plt.show()"
   ]
  },
  {
   "cell_type": "code",
   "execution_count": 55,
   "id": "e4a183d7",
   "metadata": {},
   "outputs": [
    {
     "data": {
      "image/png": "[encoded data removed]",
      "text/plain": [
       "<Figure size 432x288 with 1 Axes>"
      ]
     },
     "metadata": {
      "needs_background": "light"
     },
     "output_type": "display_data"
    }
   ],
   "source": [
    "from sklearn.metrics import silhouette_score\n",
    "silhouette_scores = [] \n",
    "\n",
    "for n_cluster in range(2,15):\n",
    "    silhouette_scores.append( \n",
    "        silhouette_score(X_scaled, KMeans(n_clusters =n_cluster).fit_predict(X_scaled))) \n",
    "    \n",
    "# Plotting a bar graph to compare the results \n",
    "k = [2, 3, 4, 5, 6,7,8,9,10,11,12,13,14] \n",
    "plt.bar(k, silhouette_scores) \n",
    "plt.xlabel('Number of clusters', fontsize = 10) \n",
    "plt.ylabel('Silhouette Score', fontsize = 10) \n",
    "plt.grid()\n",
    "plt.show() "
   ]
  },
  {
   "cell_type": "code",
   "execution_count": 57,
   "id": "b5728ff8",
   "metadata": {},
   "outputs": [],
   "source": [
    "#Model Build   (K-means)\n",
    "kmeansmodel = KMeans(n_clusters= 2, random_state=0)\n",
    "y_kmeans= kmeansmodel.fit_predict(X)"
   ]
  },
  {
   "cell_type": "code",
   "execution_count": 58,
   "id": "09b28a38",
   "metadata": {},
   "outputs": [
    {
     "data": {
      "text/plain": [
       "array([0, 0, 0, ..., 1, 1, 1])"
      ]
     },
     "execution_count": 58,
     "metadata": {},
     "output_type": "execute_result"
    }
   ],
   "source": [
    "nclusters = 2 # this is the k in kmeans\n",
    "seed = 0\n",
    "\n",
    "km = KMeans(n_clusters=nclusters, random_state=seed)\n",
    "km.fit(X_scaled)\n",
    "\n",
    "# predict the cluster for each data point\n",
    "y_cluster_kmeans = km.predict(X_scaled)\n",
    "y_cluster_kmeans"
   ]
  },
  {
   "cell_type": "code",
   "execution_count": 59,
   "id": "56d3c705",
   "metadata": {},
   "outputs": [
    {
     "data": {
      "text/plain": [
       "0.9945490411457827"
      ]
     },
     "execution_count": 59,
     "metadata": {},
     "output_type": "execute_result"
    }
   ],
   "source": [
    "score = metrics.silhouette_score(X_scaled, y_cluster_kmeans)\n",
    "score"
   ]
  },
  {
   "cell_type": "code",
   "execution_count": 60,
   "id": "96104c65",
   "metadata": {},
   "outputs": [
    {
     "data": {
      "text/plain": [
       "3.8568712860892957"
      ]
     },
     "execution_count": 60,
     "metadata": {},
     "output_type": "execute_result"
    }
   ],
   "source": [
    "km.inertia_"
   ]
  },
  {
   "cell_type": "code",
   "execution_count": 61,
   "id": "86a03255",
   "metadata": {},
   "outputs": [
    {
     "data": {
      "text/plain": [
       "array([[-0.96382791],\n",
       "       [ 1.03729679]])"
      ]
     },
     "execution_count": 61,
     "metadata": {},
     "output_type": "execute_result"
    }
   ],
   "source": [
    "km.cluster_centers_"
   ]
  },
  {
   "cell_type": "code",
   "execution_count": null,
   "id": "6df3bcee",
   "metadata": {},
   "outputs": [],
   "source": []
  },
  {
   "cell_type": "code",
   "execution_count": null,
   "id": "e7425aaa",
   "metadata": {},
   "outputs": [],
   "source": []
  },
  {
   "cell_type": "code",
   "execution_count": null,
   "id": "5b939281",
   "metadata": {},
   "outputs": [],
   "source": []
  }
 ],
 "metadata": {
  "kernelspec": {
   "display_name": "Python 3",
   "language": "python",
   "name": "python3"
  },
  "language_info": {
   "codemirror_mode": {
    "name": "ipython",
    "version": 3
   },
   "file_extension": ".py",
   "mimetype": "text/x-python",
   "name": "python",
   "nbconvert_exporter": "python",
   "pygments_lexer": "ipython3",
   "version": "3.8.8"
  }
 },
 "nbformat": 4,
 "nbformat_minor": 5
}
