{
 "cells": [
  {
   "cell_type": "code",
   "execution_count": 1,
   "id": "f433beb8",
   "metadata": {},
   "outputs": [],
   "source": [
    "import numpy as np # linear algebra\n",
    "import pandas as pd # data processing, CSV file I/O (e.g. pd.read_csv)\n",
    "import matplotlib.pyplot as plt\n",
    "import seaborn as sns\n",
    "import os"
   ]
  },
  {
   "cell_type": "code",
   "execution_count": 2,
   "id": "4f1232c2",
   "metadata": {},
   "outputs": [],
   "source": [
    "columns=[\"S.No\",\"Product Title\",\"Vendor ID\",\"Cluster ID\",\"Cluster Label\",\"Category ID\",\"Category Label \"]\n",
    "df=pd.read_csv(\"skroutz_aggregate.csv\", names=columns)"
   ]
  },
  {
   "cell_type": "code",
   "execution_count": 3,
   "id": "6a2c492f",
   "metadata": {},
   "outputs": [
    {
     "data": {
      "text/html": [
       "<div>\n",
       "<style scoped>\n",
       "    .dataframe tbody tr th:only-of-type {\n",
       "        vertical-align: middle;\n",
       "    }\n",
       "\n",
       "    .dataframe tbody tr th {\n",
       "        vertical-align: top;\n",
       "    }\n",
       "\n",
       "    .dataframe thead th {\n",
       "        text-align: right;\n",
       "    }\n",
       "</style>\n",
       "<table border=\"1\" class=\"dataframe\">\n",
       "  <thead>\n",
       "    <tr style=\"text-align: right;\">\n",
       "      <th></th>\n",
       "      <th>S.No</th>\n",
       "      <th>Product Title</th>\n",
       "      <th>Vendor ID</th>\n",
       "      <th>Cluster ID</th>\n",
       "      <th>Cluster Label</th>\n",
       "      <th>Category ID</th>\n",
       "      <th>Category Label</th>\n",
       "    </tr>\n",
       "  </thead>\n",
       "  <tbody>\n",
       "    <tr>\n",
       "      <th>0</th>\n",
       "      <td>1</td>\n",
       "      <td>amd ryzen 5 1600 box epexergastis me wraith sp...</td>\n",
       "      <td>1030</td>\n",
       "      <td>1</td>\n",
       "      <td>AMD Ryzen 5 1600 Box</td>\n",
       "      <td>696</td>\n",
       "      <td>CPUs</td>\n",
       "    </tr>\n",
       "    <tr>\n",
       "      <th>1</th>\n",
       "      <td>2</td>\n",
       "      <td>amd ryzen 5 1600</td>\n",
       "      <td>3964</td>\n",
       "      <td>1</td>\n",
       "      <td>AMD Ryzen 5 1600 Box</td>\n",
       "      <td>696</td>\n",
       "      <td>CPUs</td>\n",
       "    </tr>\n",
       "    <tr>\n",
       "      <th>2</th>\n",
       "      <td>3</td>\n",
       "      <td>amd ryzen 5 1600 box pliromi ke se eos 36 dosis</td>\n",
       "      <td>4814</td>\n",
       "      <td>1</td>\n",
       "      <td>AMD Ryzen 5 1600 Box</td>\n",
       "      <td>696</td>\n",
       "      <td>CPUs</td>\n",
       "    </tr>\n",
       "    <tr>\n",
       "      <th>3</th>\n",
       "      <td>4</td>\n",
       "      <td>amd ryzen 5 1600 yd1600bbaebox</td>\n",
       "      <td>4835</td>\n",
       "      <td>1</td>\n",
       "      <td>AMD Ryzen 5 1600 Box</td>\n",
       "      <td>696</td>\n",
       "      <td>CPUs</td>\n",
       "    </tr>\n",
       "    <tr>\n",
       "      <th>4</th>\n",
       "      <td>5</td>\n",
       "      <td>amd ryzen 5 1600 box yd1600bbaebox</td>\n",
       "      <td>2976</td>\n",
       "      <td>1</td>\n",
       "      <td>AMD Ryzen 5 1600 Box</td>\n",
       "      <td>696</td>\n",
       "      <td>CPUs</td>\n",
       "    </tr>\n",
       "  </tbody>\n",
       "</table>\n",
       "</div>"
      ],
      "text/plain": [
       "   S.No                                      Product Title  Vendor ID  \\\n",
       "0     1  amd ryzen 5 1600 box epexergastis me wraith sp...       1030   \n",
       "1     2                                   amd ryzen 5 1600       3964   \n",
       "2     3    amd ryzen 5 1600 box pliromi ke se eos 36 dosis       4814   \n",
       "3     4                     amd ryzen 5 1600 yd1600bbaebox       4835   \n",
       "4     5                 amd ryzen 5 1600 box yd1600bbaebox       2976   \n",
       "\n",
       "   Cluster ID         Cluster Label  Category ID Category Label   \n",
       "0           1  AMD Ryzen 5 1600 Box          696            CPUs  \n",
       "1           1  AMD Ryzen 5 1600 Box          696            CPUs  \n",
       "2           1  AMD Ryzen 5 1600 Box          696            CPUs  \n",
       "3           1  AMD Ryzen 5 1600 Box          696            CPUs  \n",
       "4           1  AMD Ryzen 5 1600 Box          696            CPUs  "
      ]
     },
     "execution_count": 3,
     "metadata": {},
     "output_type": "execute_result"
    }
   ],
   "source": [
    "df.head()"
   ]
  },
  {
   "cell_type": "code",
   "execution_count": 4,
   "id": "a47f2e69",
   "metadata": {},
   "outputs": [
    {
     "name": "stdout",
     "output_type": "stream",
     "text": [
      "<class 'pandas.core.frame.DataFrame'>\n",
      "RangeIndex: 238170 entries, 0 to 238169\n",
      "Data columns (total 7 columns):\n",
      " #   Column           Non-Null Count   Dtype \n",
      "---  ------           --------------   ----- \n",
      " 0   S.No             238170 non-null  int64 \n",
      " 1   Product Title    238170 non-null  object\n",
      " 2   Vendor ID        238170 non-null  int64 \n",
      " 3   Cluster ID       238170 non-null  int64 \n",
      " 4   Cluster Label    238170 non-null  object\n",
      " 5   Category ID      238170 non-null  int64 \n",
      " 6   Category Label   238170 non-null  object\n",
      "dtypes: int64(4), object(3)\n",
      "memory usage: 12.7+ MB\n"
     ]
    }
   ],
   "source": [
    "df.info()"
   ]
  },
  {
   "cell_type": "code",
   "execution_count": 5,
   "id": "26f7bd92",
   "metadata": {},
   "outputs": [],
   "source": [
    "df.drop('S.No',axis=1, inplace=True)"
   ]
  },
  {
   "cell_type": "code",
   "execution_count": 6,
   "id": "d528c0a5",
   "metadata": {},
   "outputs": [
    {
     "data": {
      "text/html": [
       "<div>\n",
       "<style scoped>\n",
       "    .dataframe tbody tr th:only-of-type {\n",
       "        vertical-align: middle;\n",
       "    }\n",
       "\n",
       "    .dataframe tbody tr th {\n",
       "        vertical-align: top;\n",
       "    }\n",
       "\n",
       "    .dataframe thead th {\n",
       "        text-align: right;\n",
       "    }\n",
       "</style>\n",
       "<table border=\"1\" class=\"dataframe\">\n",
       "  <thead>\n",
       "    <tr style=\"text-align: right;\">\n",
       "      <th></th>\n",
       "      <th>Category ID</th>\n",
       "      <th>Cluster ID</th>\n",
       "    </tr>\n",
       "  </thead>\n",
       "  <tbody>\n",
       "    <tr>\n",
       "      <th>0</th>\n",
       "      <td>354</td>\n",
       "      <td>5738092720</td>\n",
       "    </tr>\n",
       "    <tr>\n",
       "      <th>1</th>\n",
       "      <td>355</td>\n",
       "      <td>6943329103</td>\n",
       "    </tr>\n",
       "    <tr>\n",
       "      <th>2</th>\n",
       "      <td>696</td>\n",
       "      <td>149194</td>\n",
       "    </tr>\n",
       "    <tr>\n",
       "      <th>3</th>\n",
       "      <td>810</td>\n",
       "      <td>17817949</td>\n",
       "    </tr>\n",
       "    <tr>\n",
       "      <th>4</th>\n",
       "      <td>927</td>\n",
       "      <td>54768874</td>\n",
       "    </tr>\n",
       "  </tbody>\n",
       "</table>\n",
       "</div>"
      ],
      "text/plain": [
       "   Category ID  Cluster ID\n",
       "0          354  5738092720\n",
       "1          355  6943329103\n",
       "2          696      149194\n",
       "3          810    17817949\n",
       "4          927    54768874"
      ]
     },
     "execution_count": 6,
     "metadata": {},
     "output_type": "execute_result"
    }
   ],
   "source": [
    "data=df.groupby('Category ID',as_index=False)[['Cluster ID']].agg(np.sum)\n",
    "data.head()"
   ]
  },
  {
   "cell_type": "code",
   "execution_count": 7,
   "id": "c70a5230",
   "metadata": {},
   "outputs": [
    {
     "name": "stdout",
     "output_type": "stream",
     "text": [
      "        Cluster ID\n",
      "80485        46158\n",
      "212125       69988\n",
      "30882         4208\n",
      "16012         3295\n",
      "33268         4384\n",
      "        Category ID\n",
      "233676         1695\n",
      "187326          355\n",
      "93611           354\n",
      "95686           354\n",
      "195853          354\n"
     ]
    }
   ],
   "source": [
    "# split data into features (X) and labels (y)\n",
    "X = df.iloc[:,[2]]\n",
    "y = df.iloc[:,[4]]\n",
    "print(X.sample(5))\n",
    "print(y.sample(5))"
   ]
  },
  {
   "cell_type": "code",
   "execution_count": 8,
   "id": "4fa9a159",
   "metadata": {},
   "outputs": [
    {
     "data": {
      "text/html": [
       "<div>\n",
       "<style scoped>\n",
       "    .dataframe tbody tr th:only-of-type {\n",
       "        vertical-align: middle;\n",
       "    }\n",
       "\n",
       "    .dataframe tbody tr th {\n",
       "        vertical-align: top;\n",
       "    }\n",
       "\n",
       "    .dataframe thead th {\n",
       "        text-align: right;\n",
       "    }\n",
       "</style>\n",
       "<table border=\"1\" class=\"dataframe\">\n",
       "  <thead>\n",
       "    <tr style=\"text-align: right;\">\n",
       "      <th></th>\n",
       "      <th>Cluster ID</th>\n",
       "    </tr>\n",
       "  </thead>\n",
       "  <tbody>\n",
       "    <tr>\n",
       "      <th>1245</th>\n",
       "      <td>-1.995340</td>\n",
       "    </tr>\n",
       "    <tr>\n",
       "      <th>73130</th>\n",
       "      <td>-0.583384</td>\n",
       "    </tr>\n",
       "    <tr>\n",
       "      <th>8904</th>\n",
       "      <td>-1.904181</td>\n",
       "    </tr>\n",
       "    <tr>\n",
       "      <th>163703</th>\n",
       "      <td>0.913760</td>\n",
       "    </tr>\n",
       "    <tr>\n",
       "      <th>203806</th>\n",
       "      <td>1.199703</td>\n",
       "    </tr>\n",
       "  </tbody>\n",
       "</table>\n",
       "</div>"
      ],
      "text/plain": [
       "        Cluster ID\n",
       "1245     -1.995340\n",
       "73130    -0.583384\n",
       "8904     -1.904181\n",
       "163703    0.913760\n",
       "203806    1.199703"
      ]
     },
     "execution_count": 8,
     "metadata": {},
     "output_type": "execute_result"
    }
   ],
   "source": [
    "from sklearn import preprocessing\n",
    "\n",
    "scaler = preprocessing.StandardScaler()\n",
    "\n",
    "scaler.fit(X)\n",
    "X_scaled_array = scaler.transform(X)\n",
    "X_scaled = pd.DataFrame(X_scaled_array, columns = X.columns)\n",
    "\n",
    "X_scaled.sample(5)"
   ]
  },
  {
   "cell_type": "code",
   "execution_count": 9,
   "id": "f63b3bd1",
   "metadata": {},
   "outputs": [],
   "source": [
    "#def scale(x):\n",
    "  #  return (x-np.mean(x))/np.std(x)\n",
    "#data_num=data.drop(\"Cluster ID\",axis=1)\n",
    "#data_num"
   ]
  },
  {
   "cell_type": "code",
   "execution_count": 10,
   "id": "f0413509",
   "metadata": {},
   "outputs": [],
   "source": [
    "#data_scaled=data_num.apply(scale,axis=1)"
   ]
  },
  {
   "cell_type": "code",
   "execution_count": 11,
   "id": "ffe9a61e",
   "metadata": {},
   "outputs": [
    {
     "data": {
      "image/png": "[encoded data removed]",
      "text/plain": [
       "<Figure size 432x288 with 1 Axes>"
      ]
     },
     "metadata": {
      "needs_background": "light"
     },
     "output_type": "display_data"
    }
   ],
   "source": [
    "from scipy.cluster.hierarchy import linkage,dendrogram\n",
    "merg = linkage(data, method = \"ward\")\n",
    "dendrogram(merg, leaf_rotation = 90)\n",
    "plt.xlabel(\"data points\")\n",
    "plt.ylabel(\"euclidean distance\")\n",
    "plt.show()"
   ]
  },
  {
   "cell_type": "code",
   "execution_count": null,
   "id": "594d3af3",
   "metadata": {},
   "outputs": [],
   "source": []
  },
  {
   "cell_type": "code",
   "execution_count": null,
   "id": "fa385f2d",
   "metadata": {},
   "outputs": [],
   "source": []
  }
 ],
 "metadata": {
  "kernelspec": {
   "display_name": "Python 3",
   "language": "python",
   "name": "python3"
  },
  "language_info": {
   "codemirror_mode": {
    "name": "ipython",
    "version": 3
   },
   "file_extension": ".py",
   "mimetype": "text/x-python",
   "name": "python",
   "nbconvert_exporter": "python",
   "pygments_lexer": "ipython3",
   "version": "3.8.8"
  }
 },
 "nbformat": 4,
 "nbformat_minor": 5
}
